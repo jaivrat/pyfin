{
 "cells": [
  {
   "cell_type": "code",
   "execution_count": 16,
   "metadata": {},
   "outputs": [],
   "source": [
    "import pandas_datareader.data as reader\n",
    "import yfinance as yf\n",
    "import datetime as dt\n",
    "import matplotlib.pyplot as plt\n",
    "import statsmodels.api as sm"
   ]
  },
  {
   "cell_type": "code",
   "execution_count": 65,
   "metadata": {},
   "outputs": [],
   "source": [
    "# CAPM : r_i = alpha + beta_i * r_m + e\n",
    "# beta = cov(r_i, r_m)/var(r_m)\n",
    "\n",
    "end = dt.date(2024, 5, 20)\n",
    "start = dt.date(end.year - 5, end.month, end.day)\n",
    "inputs = ['MSFT', '^GSPC']\n"
   ]
  },
  {
   "cell_type": "code",
   "execution_count": 66,
   "metadata": {},
   "outputs": [
    {
     "name": "stderr",
     "output_type": "stream",
     "text": [
      "[*********************100%%**********************]  2 of 2 completed\n"
     ]
    },
    {
     "data": {
      "text/html": [
       "<div>\n",
       "<style scoped>\n",
       "    .dataframe tbody tr th:only-of-type {\n",
       "        vertical-align: middle;\n",
       "    }\n",
       "\n",
       "    .dataframe tbody tr th {\n",
       "        vertical-align: top;\n",
       "    }\n",
       "\n",
       "    .dataframe thead tr th {\n",
       "        text-align: left;\n",
       "    }\n",
       "\n",
       "    .dataframe thead tr:last-of-type th {\n",
       "        text-align: right;\n",
       "    }\n",
       "</style>\n",
       "<table border=\"1\" class=\"dataframe\">\n",
       "  <thead>\n",
       "    <tr>\n",
       "      <th>Price</th>\n",
       "      <th colspan=\"2\" halign=\"left\">Adj Close</th>\n",
       "      <th colspan=\"2\" halign=\"left\">Close</th>\n",
       "      <th colspan=\"2\" halign=\"left\">High</th>\n",
       "      <th colspan=\"2\" halign=\"left\">Low</th>\n",
       "      <th colspan=\"2\" halign=\"left\">Open</th>\n",
       "      <th colspan=\"2\" halign=\"left\">Volume</th>\n",
       "    </tr>\n",
       "    <tr>\n",
       "      <th>Ticker</th>\n",
       "      <th>MSFT</th>\n",
       "      <th>^GSPC</th>\n",
       "      <th>MSFT</th>\n",
       "      <th>^GSPC</th>\n",
       "      <th>MSFT</th>\n",
       "      <th>^GSPC</th>\n",
       "      <th>MSFT</th>\n",
       "      <th>^GSPC</th>\n",
       "      <th>MSFT</th>\n",
       "      <th>^GSPC</th>\n",
       "      <th>MSFT</th>\n",
       "      <th>^GSPC</th>\n",
       "    </tr>\n",
       "    <tr>\n",
       "      <th>Date</th>\n",
       "      <th></th>\n",
       "      <th></th>\n",
       "      <th></th>\n",
       "      <th></th>\n",
       "      <th></th>\n",
       "      <th></th>\n",
       "      <th></th>\n",
       "      <th></th>\n",
       "      <th></th>\n",
       "      <th></th>\n",
       "      <th></th>\n",
       "      <th></th>\n",
       "    </tr>\n",
       "  </thead>\n",
       "  <tbody>\n",
       "    <tr>\n",
       "      <th>2019-05-20</th>\n",
       "      <td>120.375473</td>\n",
       "      <td>2840.229980</td>\n",
       "      <td>126.220001</td>\n",
       "      <td>2840.229980</td>\n",
       "      <td>127.589996</td>\n",
       "      <td>2853.860107</td>\n",
       "      <td>125.760002</td>\n",
       "      <td>2831.290039</td>\n",
       "      <td>126.519997</td>\n",
       "      <td>2841.939941</td>\n",
       "      <td>23706900</td>\n",
       "      <td>3293750000</td>\n",
       "    </tr>\n",
       "    <tr>\n",
       "      <th>2019-05-21</th>\n",
       "      <td>121.023987</td>\n",
       "      <td>2864.360107</td>\n",
       "      <td>126.900002</td>\n",
       "      <td>2864.360107</td>\n",
       "      <td>127.529999</td>\n",
       "      <td>2868.879883</td>\n",
       "      <td>126.580002</td>\n",
       "      <td>2854.020020</td>\n",
       "      <td>127.430000</td>\n",
       "      <td>2854.020020</td>\n",
       "      <td>15293300</td>\n",
       "      <td>3223050000</td>\n",
       "    </tr>\n",
       "    <tr>\n",
       "      <th>2019-05-22</th>\n",
       "      <td>121.758324</td>\n",
       "      <td>2856.270020</td>\n",
       "      <td>127.669998</td>\n",
       "      <td>2856.270020</td>\n",
       "      <td>128.240005</td>\n",
       "      <td>2865.469971</td>\n",
       "      <td>126.519997</td>\n",
       "      <td>2851.110107</td>\n",
       "      <td>126.620003</td>\n",
       "      <td>2856.060059</td>\n",
       "      <td>15396500</td>\n",
       "      <td>3194000000</td>\n",
       "    </tr>\n",
       "    <tr>\n",
       "      <th>2019-05-23</th>\n",
       "      <td>120.337318</td>\n",
       "      <td>2822.239990</td>\n",
       "      <td>126.180000</td>\n",
       "      <td>2822.239990</td>\n",
       "      <td>126.290001</td>\n",
       "      <td>2836.699951</td>\n",
       "      <td>124.739998</td>\n",
       "      <td>2805.489990</td>\n",
       "      <td>126.199997</td>\n",
       "      <td>2836.699951</td>\n",
       "      <td>23603800</td>\n",
       "      <td>3899320000</td>\n",
       "    </tr>\n",
       "    <tr>\n",
       "      <th>2019-05-24</th>\n",
       "      <td>120.394554</td>\n",
       "      <td>2826.060059</td>\n",
       "      <td>126.239998</td>\n",
       "      <td>2826.060059</td>\n",
       "      <td>127.419998</td>\n",
       "      <td>2841.360107</td>\n",
       "      <td>125.970001</td>\n",
       "      <td>2820.189941</td>\n",
       "      <td>126.910004</td>\n",
       "      <td>2832.409912</td>\n",
       "      <td>14123400</td>\n",
       "      <td>2889230000</td>\n",
       "    </tr>\n",
       "  </tbody>\n",
       "</table>\n",
       "</div>"
      ],
      "text/plain": [
       "Price        Adj Close                    Close                     High  \\\n",
       "Ticker            MSFT        ^GSPC        MSFT        ^GSPC        MSFT   \n",
       "Date                                                                       \n",
       "2019-05-20  120.375473  2840.229980  126.220001  2840.229980  127.589996   \n",
       "2019-05-21  121.023987  2864.360107  126.900002  2864.360107  127.529999   \n",
       "2019-05-22  121.758324  2856.270020  127.669998  2856.270020  128.240005   \n",
       "2019-05-23  120.337318  2822.239990  126.180000  2822.239990  126.290001   \n",
       "2019-05-24  120.394554  2826.060059  126.239998  2826.060059  127.419998   \n",
       "\n",
       "Price                           Low                     Open               \\\n",
       "Ticker            ^GSPC        MSFT        ^GSPC        MSFT        ^GSPC   \n",
       "Date                                                                        \n",
       "2019-05-20  2853.860107  125.760002  2831.290039  126.519997  2841.939941   \n",
       "2019-05-21  2868.879883  126.580002  2854.020020  127.430000  2854.020020   \n",
       "2019-05-22  2865.469971  126.519997  2851.110107  126.620003  2856.060059   \n",
       "2019-05-23  2836.699951  124.739998  2805.489990  126.199997  2836.699951   \n",
       "2019-05-24  2841.360107  125.970001  2820.189941  126.910004  2832.409912   \n",
       "\n",
       "Price         Volume              \n",
       "Ticker          MSFT       ^GSPC  \n",
       "Date                              \n",
       "2019-05-20  23706900  3293750000  \n",
       "2019-05-21  15293300  3223050000  \n",
       "2019-05-22  15396500  3194000000  \n",
       "2019-05-23  23603800  3899320000  \n",
       "2019-05-24  14123400  2889230000  "
      ]
     },
     "execution_count": 66,
     "metadata": {},
     "output_type": "execute_result"
    }
   ],
   "source": [
    "df = yf.download(inputs, start=start, end=end)\n",
    "df.head()"
   ]
  },
  {
   "cell_type": "code",
   "execution_count": 67,
   "metadata": {},
   "outputs": [
    {
     "data": {
      "text/html": [
       "<div>\n",
       "<style scoped>\n",
       "    .dataframe tbody tr th:only-of-type {\n",
       "        vertical-align: middle;\n",
       "    }\n",
       "\n",
       "    .dataframe tbody tr th {\n",
       "        vertical-align: top;\n",
       "    }\n",
       "\n",
       "    .dataframe thead th {\n",
       "        text-align: right;\n",
       "    }\n",
       "</style>\n",
       "<table border=\"1\" class=\"dataframe\">\n",
       "  <thead>\n",
       "    <tr style=\"text-align: right;\">\n",
       "      <th>Ticker</th>\n",
       "      <th>MSFT</th>\n",
       "      <th>^GSPC</th>\n",
       "    </tr>\n",
       "    <tr>\n",
       "      <th>Date</th>\n",
       "      <th></th>\n",
       "      <th></th>\n",
       "    </tr>\n",
       "  </thead>\n",
       "  <tbody>\n",
       "    <tr>\n",
       "      <th>2019-05-20</th>\n",
       "      <td>120.375473</td>\n",
       "      <td>2840.229980</td>\n",
       "    </tr>\n",
       "    <tr>\n",
       "      <th>2019-05-21</th>\n",
       "      <td>121.023987</td>\n",
       "      <td>2864.360107</td>\n",
       "    </tr>\n",
       "    <tr>\n",
       "      <th>2019-05-22</th>\n",
       "      <td>121.758324</td>\n",
       "      <td>2856.270020</td>\n",
       "    </tr>\n",
       "    <tr>\n",
       "      <th>2019-05-23</th>\n",
       "      <td>120.337318</td>\n",
       "      <td>2822.239990</td>\n",
       "    </tr>\n",
       "    <tr>\n",
       "      <th>2019-05-24</th>\n",
       "      <td>120.394554</td>\n",
       "      <td>2826.060059</td>\n",
       "    </tr>\n",
       "  </tbody>\n",
       "</table>\n",
       "</div>"
      ],
      "text/plain": [
       "Ticker            MSFT        ^GSPC\n",
       "Date                               \n",
       "2019-05-20  120.375473  2840.229980\n",
       "2019-05-21  121.023987  2864.360107\n",
       "2019-05-22  121.758324  2856.270020\n",
       "2019-05-23  120.337318  2822.239990\n",
       "2019-05-24  120.394554  2826.060059"
      ]
     },
     "execution_count": 67,
     "metadata": {},
     "output_type": "execute_result"
    }
   ],
   "source": [
    "df = df['Adj Close']\n",
    "df.head()"
   ]
  },
  {
   "cell_type": "code",
   "execution_count": 68,
   "metadata": {},
   "outputs": [],
   "source": [
    "# As we are interested in monthly returns\n",
    "mthly_returns = df.resample('M').ffill().pct_change()"
   ]
  },
  {
   "cell_type": "code",
   "execution_count": 69,
   "metadata": {},
   "outputs": [
    {
     "data": {
      "text/html": [
       "<div>\n",
       "<style scoped>\n",
       "    .dataframe tbody tr th:only-of-type {\n",
       "        vertical-align: middle;\n",
       "    }\n",
       "\n",
       "    .dataframe tbody tr th {\n",
       "        vertical-align: top;\n",
       "    }\n",
       "\n",
       "    .dataframe thead th {\n",
       "        text-align: right;\n",
       "    }\n",
       "</style>\n",
       "<table border=\"1\" class=\"dataframe\">\n",
       "  <thead>\n",
       "    <tr style=\"text-align: right;\">\n",
       "      <th>Ticker</th>\n",
       "      <th>MSFT</th>\n",
       "      <th>^GSPC</th>\n",
       "    </tr>\n",
       "    <tr>\n",
       "      <th>Date</th>\n",
       "      <th></th>\n",
       "      <th></th>\n",
       "    </tr>\n",
       "  </thead>\n",
       "  <tbody>\n",
       "    <tr>\n",
       "      <th>2019-05-31</th>\n",
       "      <td>NaN</td>\n",
       "      <td>NaN</td>\n",
       "    </tr>\n",
       "    <tr>\n",
       "      <th>2019-06-30</th>\n",
       "      <td>0.083118</td>\n",
       "      <td>0.068930</td>\n",
       "    </tr>\n",
       "    <tr>\n",
       "      <th>2019-07-31</th>\n",
       "      <td>0.017244</td>\n",
       "      <td>0.013128</td>\n",
       "    </tr>\n",
       "    <tr>\n",
       "      <th>2019-08-31</th>\n",
       "      <td>0.015037</td>\n",
       "      <td>-0.018092</td>\n",
       "    </tr>\n",
       "    <tr>\n",
       "      <th>2019-09-30</th>\n",
       "      <td>0.008487</td>\n",
       "      <td>0.017181</td>\n",
       "    </tr>\n",
       "  </tbody>\n",
       "</table>\n",
       "</div>"
      ],
      "text/plain": [
       "Ticker          MSFT     ^GSPC\n",
       "Date                          \n",
       "2019-05-31       NaN       NaN\n",
       "2019-06-30  0.083118  0.068930\n",
       "2019-07-31  0.017244  0.013128\n",
       "2019-08-31  0.015037 -0.018092\n",
       "2019-09-30  0.008487  0.017181"
      ]
     },
     "execution_count": 69,
     "metadata": {},
     "output_type": "execute_result"
    }
   ],
   "source": [
    "mthly_returns.head()"
   ]
  },
  {
   "cell_type": "code",
   "execution_count": 70,
   "metadata": {},
   "outputs": [
    {
     "data": {
      "text/html": [
       "<div>\n",
       "<style scoped>\n",
       "    .dataframe tbody tr th:only-of-type {\n",
       "        vertical-align: middle;\n",
       "    }\n",
       "\n",
       "    .dataframe tbody tr th {\n",
       "        vertical-align: top;\n",
       "    }\n",
       "\n",
       "    .dataframe thead th {\n",
       "        text-align: right;\n",
       "    }\n",
       "</style>\n",
       "<table border=\"1\" class=\"dataframe\">\n",
       "  <thead>\n",
       "    <tr style=\"text-align: right;\">\n",
       "      <th>Ticker</th>\n",
       "      <th>MSFT</th>\n",
       "      <th>^GSPC</th>\n",
       "    </tr>\n",
       "    <tr>\n",
       "      <th>Date</th>\n",
       "      <th></th>\n",
       "      <th></th>\n",
       "    </tr>\n",
       "  </thead>\n",
       "  <tbody>\n",
       "    <tr>\n",
       "      <th>2019-06-30</th>\n",
       "      <td>0.083118</td>\n",
       "      <td>0.068930</td>\n",
       "    </tr>\n",
       "    <tr>\n",
       "      <th>2019-07-31</th>\n",
       "      <td>0.017244</td>\n",
       "      <td>0.013128</td>\n",
       "    </tr>\n",
       "    <tr>\n",
       "      <th>2019-08-31</th>\n",
       "      <td>0.015037</td>\n",
       "      <td>-0.018092</td>\n",
       "    </tr>\n",
       "    <tr>\n",
       "      <th>2019-09-30</th>\n",
       "      <td>0.008487</td>\n",
       "      <td>0.017181</td>\n",
       "    </tr>\n",
       "    <tr>\n",
       "      <th>2019-10-31</th>\n",
       "      <td>0.031216</td>\n",
       "      <td>0.020432</td>\n",
       "    </tr>\n",
       "  </tbody>\n",
       "</table>\n",
       "</div>"
      ],
      "text/plain": [
       "Ticker          MSFT     ^GSPC\n",
       "Date                          \n",
       "2019-06-30  0.083118  0.068930\n",
       "2019-07-31  0.017244  0.013128\n",
       "2019-08-31  0.015037 -0.018092\n",
       "2019-09-30  0.008487  0.017181\n",
       "2019-10-31  0.031216  0.020432"
      ]
     },
     "execution_count": 70,
     "metadata": {},
     "output_type": "execute_result"
    }
   ],
   "source": [
    "mthly_returns = mthly_returns.dropna(axis = 0)\n",
    "mthly_returns.head()"
   ]
  },
  {
   "cell_type": "code",
   "execution_count": 71,
   "metadata": {},
   "outputs": [
    {
     "data": {
      "text/html": [
       "<div>\n",
       "<style scoped>\n",
       "    .dataframe tbody tr th:only-of-type {\n",
       "        vertical-align: middle;\n",
       "    }\n",
       "\n",
       "    .dataframe tbody tr th {\n",
       "        vertical-align: top;\n",
       "    }\n",
       "\n",
       "    .dataframe thead th {\n",
       "        text-align: right;\n",
       "    }\n",
       "</style>\n",
       "<table border=\"1\" class=\"dataframe\">\n",
       "  <thead>\n",
       "    <tr style=\"text-align: right;\">\n",
       "      <th></th>\n",
       "      <th>const</th>\n",
       "      <th>^GSPC</th>\n",
       "    </tr>\n",
       "    <tr>\n",
       "      <th>Date</th>\n",
       "      <th></th>\n",
       "      <th></th>\n",
       "    </tr>\n",
       "  </thead>\n",
       "  <tbody>\n",
       "    <tr>\n",
       "      <th>2019-06-30</th>\n",
       "      <td>1.0</td>\n",
       "      <td>0.068930</td>\n",
       "    </tr>\n",
       "    <tr>\n",
       "      <th>2019-07-31</th>\n",
       "      <td>1.0</td>\n",
       "      <td>0.013128</td>\n",
       "    </tr>\n",
       "    <tr>\n",
       "      <th>2019-08-31</th>\n",
       "      <td>1.0</td>\n",
       "      <td>-0.018092</td>\n",
       "    </tr>\n",
       "    <tr>\n",
       "      <th>2019-09-30</th>\n",
       "      <td>1.0</td>\n",
       "      <td>0.017181</td>\n",
       "    </tr>\n",
       "    <tr>\n",
       "      <th>2019-10-31</th>\n",
       "      <td>1.0</td>\n",
       "      <td>0.020432</td>\n",
       "    </tr>\n",
       "  </tbody>\n",
       "</table>\n",
       "</div>"
      ],
      "text/plain": [
       "            const     ^GSPC\n",
       "Date                       \n",
       "2019-06-30    1.0  0.068930\n",
       "2019-07-31    1.0  0.013128\n",
       "2019-08-31    1.0 -0.018092\n",
       "2019-09-30    1.0  0.017181\n",
       "2019-10-31    1.0  0.020432"
      ]
     },
     "execution_count": 71,
     "metadata": {},
     "output_type": "execute_result"
    }
   ],
   "source": [
    "## Regression\n",
    "X = mthly_returns[\"^GSPC\"]\n",
    "y = mthly_returns[\"MSFT\"]\n",
    "# intercept not added by default, we need to add\n",
    "X_sm = sm.add_constant(X)\n",
    "X_sm.head()"
   ]
  },
  {
   "cell_type": "code",
   "execution_count": 72,
   "metadata": {},
   "outputs": [],
   "source": [
    "model = sm.OLS(y,X_sm)\n"
   ]
  },
  {
   "cell_type": "code",
   "execution_count": 73,
   "metadata": {},
   "outputs": [],
   "source": [
    "results = model.fit()"
   ]
  },
  {
   "cell_type": "code",
   "execution_count": 74,
   "metadata": {},
   "outputs": [
    {
     "data": {
      "text/html": [
       "<table class=\"simpletable\">\n",
       "<caption>OLS Regression Results</caption>\n",
       "<tr>\n",
       "  <th>Dep. Variable:</th>          <td>MSFT</td>       <th>  R-squared:         </th> <td>   0.556</td>\n",
       "</tr>\n",
       "<tr>\n",
       "  <th>Model:</th>                   <td>OLS</td>       <th>  Adj. R-squared:    </th> <td>   0.549</td>\n",
       "</tr>\n",
       "<tr>\n",
       "  <th>Method:</th>             <td>Least Squares</td>  <th>  F-statistic:       </th> <td>   72.72</td>\n",
       "</tr>\n",
       "<tr>\n",
       "  <th>Date:</th>             <td>Sun, 26 May 2024</td> <th>  Prob (F-statistic):</th> <td>8.04e-12</td>\n",
       "</tr>\n",
       "<tr>\n",
       "  <th>Time:</th>                 <td>15:39:30</td>     <th>  Log-Likelihood:    </th> <td>  105.35</td>\n",
       "</tr>\n",
       "<tr>\n",
       "  <th>No. Observations:</th>      <td>    60</td>      <th>  AIC:               </th> <td>  -206.7</td>\n",
       "</tr>\n",
       "<tr>\n",
       "  <th>Df Residuals:</th>          <td>    58</td>      <th>  BIC:               </th> <td>  -202.5</td>\n",
       "</tr>\n",
       "<tr>\n",
       "  <th>Df Model:</th>              <td>     1</td>      <th>                     </th>     <td> </td>   \n",
       "</tr>\n",
       "<tr>\n",
       "  <th>Covariance Type:</th>      <td>nonrobust</td>    <th>                     </th>     <td> </td>   \n",
       "</tr>\n",
       "</table>\n",
       "<table class=\"simpletable\">\n",
       "<tr>\n",
       "    <td></td>       <th>coef</th>     <th>std err</th>      <th>t</th>      <th>P>|t|</th>  <th>[0.025</th>    <th>0.975]</th>  \n",
       "</tr>\n",
       "<tr>\n",
       "  <th>const</th> <td>    0.0122</td> <td>    0.006</td> <td>    2.170</td> <td> 0.034</td> <td>    0.001</td> <td>    0.024</td>\n",
       "</tr>\n",
       "<tr>\n",
       "  <th>^GSPC</th> <td>    0.8969</td> <td>    0.105</td> <td>    8.528</td> <td> 0.000</td> <td>    0.686</td> <td>    1.107</td>\n",
       "</tr>\n",
       "</table>\n",
       "<table class=\"simpletable\">\n",
       "<tr>\n",
       "  <th>Omnibus:</th>       <td> 4.503</td> <th>  Durbin-Watson:     </th> <td>   1.945</td>\n",
       "</tr>\n",
       "<tr>\n",
       "  <th>Prob(Omnibus):</th> <td> 0.105</td> <th>  Jarque-Bera (JB):  </th> <td>   4.054</td>\n",
       "</tr>\n",
       "<tr>\n",
       "  <th>Skew:</th>          <td> 0.637</td> <th>  Prob(JB):          </th> <td>   0.132</td>\n",
       "</tr>\n",
       "<tr>\n",
       "  <th>Kurtosis:</th>      <td> 3.021</td> <th>  Cond. No.          </th> <td>    19.2</td>\n",
       "</tr>\n",
       "</table><br/><br/>Notes:<br/>[1] Standard Errors assume that the covariance matrix of the errors is correctly specified."
      ],
      "text/latex": [
       "\\begin{center}\n",
       "\\begin{tabular}{lclc}\n",
       "\\toprule\n",
       "\\textbf{Dep. Variable:}    &       MSFT       & \\textbf{  R-squared:         } &     0.556   \\\\\n",
       "\\textbf{Model:}            &       OLS        & \\textbf{  Adj. R-squared:    } &     0.549   \\\\\n",
       "\\textbf{Method:}           &  Least Squares   & \\textbf{  F-statistic:       } &     72.72   \\\\\n",
       "\\textbf{Date:}             & Sun, 26 May 2024 & \\textbf{  Prob (F-statistic):} &  8.04e-12   \\\\\n",
       "\\textbf{Time:}             &     15:39:30     & \\textbf{  Log-Likelihood:    } &    105.35   \\\\\n",
       "\\textbf{No. Observations:} &          60      & \\textbf{  AIC:               } &    -206.7   \\\\\n",
       "\\textbf{Df Residuals:}     &          58      & \\textbf{  BIC:               } &    -202.5   \\\\\n",
       "\\textbf{Df Model:}         &           1      & \\textbf{                     } &             \\\\\n",
       "\\textbf{Covariance Type:}  &    nonrobust     & \\textbf{                     } &             \\\\\n",
       "\\bottomrule\n",
       "\\end{tabular}\n",
       "\\begin{tabular}{lcccccc}\n",
       "               & \\textbf{coef} & \\textbf{std err} & \\textbf{t} & \\textbf{P$> |$t$|$} & \\textbf{[0.025} & \\textbf{0.975]}  \\\\\n",
       "\\midrule\n",
       "\\textbf{const} &       0.0122  &        0.006     &     2.170  &         0.034        &        0.001    &        0.024     \\\\\n",
       "\\textbf{^GSPC} &       0.8969  &        0.105     &     8.528  &         0.000        &        0.686    &        1.107     \\\\\n",
       "\\bottomrule\n",
       "\\end{tabular}\n",
       "\\begin{tabular}{lclc}\n",
       "\\textbf{Omnibus:}       &  4.503 & \\textbf{  Durbin-Watson:     } &    1.945  \\\\\n",
       "\\textbf{Prob(Omnibus):} &  0.105 & \\textbf{  Jarque-Bera (JB):  } &    4.054  \\\\\n",
       "\\textbf{Skew:}          &  0.637 & \\textbf{  Prob(JB):          } &    0.132  \\\\\n",
       "\\textbf{Kurtosis:}      &  3.021 & \\textbf{  Cond. No.          } &     19.2  \\\\\n",
       "\\bottomrule\n",
       "\\end{tabular}\n",
       "%\\caption{OLS Regression Results}\n",
       "\\end{center}\n",
       "\n",
       "Notes: \\newline\n",
       " [1] Standard Errors assume that the covariance matrix of the errors is correctly specified."
      ],
      "text/plain": [
       "<class 'statsmodels.iolib.summary.Summary'>\n",
       "\"\"\"\n",
       "                            OLS Regression Results                            \n",
       "==============================================================================\n",
       "Dep. Variable:                   MSFT   R-squared:                       0.556\n",
       "Model:                            OLS   Adj. R-squared:                  0.549\n",
       "Method:                 Least Squares   F-statistic:                     72.72\n",
       "Date:                Sun, 26 May 2024   Prob (F-statistic):           8.04e-12\n",
       "Time:                        15:39:30   Log-Likelihood:                 105.35\n",
       "No. Observations:                  60   AIC:                            -206.7\n",
       "Df Residuals:                      58   BIC:                            -202.5\n",
       "Df Model:                           1                                         \n",
       "Covariance Type:            nonrobust                                         \n",
       "==============================================================================\n",
       "                 coef    std err          t      P>|t|      [0.025      0.975]\n",
       "------------------------------------------------------------------------------\n",
       "const          0.0122      0.006      2.170      0.034       0.001       0.024\n",
       "^GSPC          0.8969      0.105      8.528      0.000       0.686       1.107\n",
       "==============================================================================\n",
       "Omnibus:                        4.503   Durbin-Watson:                   1.945\n",
       "Prob(Omnibus):                  0.105   Jarque-Bera (JB):                4.054\n",
       "Skew:                           0.637   Prob(JB):                        0.132\n",
       "Kurtosis:                       3.021   Cond. No.                         19.2\n",
       "==============================================================================\n",
       "\n",
       "Notes:\n",
       "[1] Standard Errors assume that the covariance matrix of the errors is correctly specified.\n",
       "\"\"\""
      ]
     },
     "execution_count": 74,
     "metadata": {},
     "output_type": "execute_result"
    }
   ],
   "source": [
    "results.summary()"
   ]
  },
  {
   "cell_type": "markdown",
   "metadata": {},
   "source": [
    "```\n",
    "\tcoef\tstd err\tt\tP>|t|\t[0.025\t0.975]\n",
    "const\t0.0126\t0.006\t2.213\t0.031\t0.001\t0.024\n",
    "^GSPC\t0.9033\t0.106\t8.520\t0.000\t0.691\t1.115\n",
    "\n",
    "```\n",
    "\n",
    "alpha is 0.0126\n",
    "beta is 0.9033"
   ]
  },
  {
   "cell_type": "code",
   "execution_count": 75,
   "metadata": {},
   "outputs": [
    {
     "data": {
      "image/png": "[encoded data removed]",
      "text/plain": [
       "<Figure size 640x480 with 1 Axes>"
      ]
     },
     "metadata": {},
     "output_type": "display_data"
    }
   ],
   "source": [
    "# Visualize results\n",
    "import seaborn as sns\n",
    "sns.regplot(x=\"^GSPC\", y='MSFT', data = mthly_returns)\n",
    "plt.show()"
   ]
  },
  {
   "cell_type": "code",
   "execution_count": 144,
   "metadata": {},
   "outputs": [
    {
     "name": "stderr",
     "output_type": "stream",
     "text": [
      "/var/folders/mw/pvq5xc9d1klbjmpfrl8cnwfm0000gn/T/ipykernel_5866/3823817879.py:3: FutureWarning: The argument 'date_parser' is deprecated and will be removed in a future version. Please use 'date_format' instead, or read your data in as 'object' dtype and then call 'to_datetime'.\n",
      "  rf = reader.DataReader('F-F_Research_Data_Factors',\n",
      "/var/folders/mw/pvq5xc9d1klbjmpfrl8cnwfm0000gn/T/ipykernel_5866/3823817879.py:3: FutureWarning: The argument 'date_parser' is deprecated and will be removed in a future version. Please use 'date_format' instead, or read your data in as 'object' dtype and then call 'to_datetime'.\n",
      "  rf = reader.DataReader('F-F_Research_Data_Factors',\n"
     ]
    }
   ],
   "source": [
    "# BUT we forgot to take rf rate under consideration\n",
    "# https://mba.tuck.dartmouth.edu/pages/faculty/ken.french/data_library.html\n",
    "rf = reader.DataReader('F-F_Research_Data_Factors', \n",
    "                       'famafrench', \n",
    "                       start = mthly_returns.index[0],\n",
    "                       end = mthly_returns.index[-1]\n",
    "                       )\n"
   ]
  },
  {
   "cell_type": "code",
   "execution_count": 145,
   "metadata": {},
   "outputs": [
    {
     "data": {
      "text/plain": [
       "58"
      ]
     },
     "execution_count": 145,
     "metadata": {},
     "output_type": "execute_result"
    }
   ],
   "source": [
    "mthly_returns['MSFT'].shape[0]\n",
    "len(rf[0].values)\n"
   ]
  },
  {
   "cell_type": "code",
   "execution_count": 151,
   "metadata": {},
   "outputs": [
    {
     "name": "stdout",
     "output_type": "stream",
     "text": [
      "2 58 2\n",
      "60\n"
     ]
    }
   ],
   "source": [
    "import numpy as np\n",
    "\n",
    "rf_vals = rf[0].values\n",
    "if len(rf_vals) < mthly_returns.shape[0]:\n",
    "    last_n = mthly_returns.shape[0] - len(rf_vals)\n",
    "    print(last_n, len(rf_vals), len(rf_vals[-last_n:]))\n",
    "    rf_vals = np.append(rf_vals, rf_vals[-last_n:], axis=0)\n",
    "print(len(rf_vals))"
   ]
  },
  {
   "cell_type": "code",
   "execution_count": 159,
   "metadata": {},
   "outputs": [
    {
     "name": "stdout",
     "output_type": "stream",
     "text": [
      "[ 0.08311759  0.01724374  0.01503675  0.00848709  0.03121601  0.05946247\n",
      "  0.04174926  0.07945455 -0.04568801 -0.02654162  0.1363264   0.02539113\n",
      "  0.11055914  0.00737082  0.10275177 -0.06739664 -0.03736982  0.06006029\n",
      "  0.03900614  0.04289177  0.00411811  0.01458818  0.06960153 -0.0076273\n",
      "  0.08498879  0.05171658  0.06159099 -0.06611888  0.17629105 -0.00128214\n",
      "  0.01733246 -0.07534499 -0.03721172  0.03186171 -0.09986709 -0.01807709\n",
      " -0.05532052  0.09309655 -0.06666316 -0.1092668  -0.00330601  0.10222292\n",
      " -0.06004542  0.03331661  0.0090179   0.15588158  0.06576502  0.07110551\n",
      "  0.03699869 -0.01356677 -0.02222562 -0.03664287  0.07081556  0.12294541\n",
      " -0.00757439  0.05728119  0.04231836  0.01711628 -0.07461022  0.08126258]\n",
      "60\n"
     ]
    }
   ],
   "source": [
    "print(mthly_returns['MSFT'].values)\n",
    "print(len(rf_vals))"
   ]
  },
  {
   "cell_type": "code",
   "execution_count": 163,
   "metadata": {},
   "outputs": [
    {
     "data": {
      "text/plain": [
       "array([[ 6.930e+00,  2.900e-01, -7.100e-01,  1.800e-01],\n",
       "       [ 1.190e+00, -1.930e+00,  4.800e-01,  1.900e-01],\n",
       "       [-2.580e+00, -2.380e+00, -4.780e+00,  1.600e-01],\n",
       "       [ 1.430e+00, -9.600e-01,  6.750e+00,  1.800e-01],\n",
       "       [ 2.060e+00,  2.900e-01, -1.910e+00,  1.600e-01],\n",
       "       [ 3.870e+00,  7.700e-01, -2.020e+00,  1.200e-01],\n",
       "       [ 2.770e+00,  7.300e-01,  1.750e+00,  1.400e-01],\n",
       "       [-1.100e-01, -3.110e+00, -6.250e+00,  1.300e-01],\n",
       "       [-8.130e+00,  1.070e+00, -3.810e+00,  1.200e-01],\n",
       "       [-1.339e+01, -4.830e+00, -1.387e+01,  1.300e-01],\n",
       "       [ 1.365e+01,  2.450e+00, -1.330e+00,  0.000e+00],\n",
       "       [ 5.580e+00,  2.470e+00, -4.880e+00,  1.000e-02],\n",
       "       [ 2.460e+00,  2.690e+00, -2.200e+00,  1.000e-02],\n",
       "       [ 5.770e+00, -2.330e+00, -1.410e+00,  1.000e-02],\n",
       "       [ 7.630e+00, -2.200e-01, -2.970e+00,  1.000e-02],\n",
       "       [-3.630e+00,  2.000e-02, -2.710e+00,  1.000e-02],\n",
       "       [-2.100e+00,  4.380e+00,  4.250e+00,  1.000e-02],\n",
       "       [ 1.247e+01,  5.800e+00,  2.090e+00,  1.000e-02],\n",
       "       [ 4.630e+00,  4.890e+00, -1.510e+00,  1.000e-02],\n",
       "       [-3.000e-02,  7.360e+00,  3.010e+00,  1.000e-02],\n",
       "       [ 2.780e+00,  2.050e+00,  7.150e+00,  0.000e+00],\n",
       "       [ 3.080e+00, -2.370e+00,  7.390e+00,  0.000e+00],\n",
       "       [ 4.930e+00, -3.190e+00, -9.500e-01,  0.000e+00],\n",
       "       [ 2.900e-01, -2.500e-01,  7.090e+00,  0.000e+00],\n",
       "       [ 2.750e+00,  1.680e+00, -7.870e+00,  0.000e+00],\n",
       "       [ 1.270e+00, -3.970e+00, -1.780e+00,  0.000e+00],\n",
       "       [ 2.910e+00, -4.200e-01, -1.500e-01,  0.000e+00],\n",
       "       [-4.370e+00,  7.100e-01,  5.080e+00,  0.000e+00],\n",
       "       [ 6.650e+00, -2.350e+00, -4.900e-01,  0.000e+00],\n",
       "       [-1.550e+00, -1.320e+00, -4.500e-01,  0.000e+00],\n",
       "       [ 3.100e+00, -1.670e+00,  3.260e+00,  1.000e-02],\n",
       "       [-6.250e+00, -5.940e+00,  1.275e+01,  0.000e+00],\n",
       "       [-2.290e+00,  2.190e+00,  3.080e+00,  0.000e+00],\n",
       "       [ 3.050e+00, -1.610e+00, -1.810e+00,  1.000e-02],\n",
       "       [-9.460e+00, -1.390e+00,  6.170e+00,  1.000e-02],\n",
       "       [-3.400e-01, -1.830e+00,  8.390e+00,  3.000e-02],\n",
       "       [-8.430e+00,  2.100e+00, -5.970e+00,  6.000e-02],\n",
       "       [ 9.570e+00,  2.810e+00, -4.050e+00,  8.000e-02],\n",
       "       [-3.770e+00,  1.400e+00,  2.900e-01,  1.900e-01],\n",
       "       [-9.350e+00, -8.100e-01,  5.000e-02,  1.900e-01],\n",
       "       [ 7.830e+00,  6.000e-02,  8.010e+00,  2.300e-01],\n",
       "       [ 4.600e+00, -3.520e+00,  1.380e+00,  2.900e-01],\n",
       "       [-6.410e+00, -6.900e-01,  1.370e+00,  3.300e-01],\n",
       "       [ 6.650e+00,  5.010e+00, -4.010e+00,  3.500e-01],\n",
       "       [-2.580e+00,  1.170e+00, -8.100e-01,  3.400e-01],\n",
       "       [ 2.510e+00, -5.510e+00, -8.850e+00,  3.600e-01],\n",
       "       [ 6.100e-01, -3.350e+00, -4.000e-02,  3.500e-01],\n",
       "       [ 3.500e-01,  1.610e+00, -7.720e+00,  3.600e-01],\n",
       "       [ 6.460e+00,  1.540e+00, -2.600e-01,  4.000e-01],\n",
       "       [ 3.210e+00,  2.080e+00,  4.110e+00,  4.500e-01],\n",
       "       [-2.390e+00, -3.160e+00, -1.060e+00,  4.500e-01],\n",
       "       [-5.240e+00, -2.510e+00,  1.520e+00,  4.300e-01],\n",
       "       [-3.190e+00, -3.880e+00,  1.800e-01,  4.700e-01],\n",
       "       [ 8.840e+00, -2.000e-02,  1.640e+00,  4.400e-01],\n",
       "       [ 4.870e+00,  6.340e+00,  4.930e+00,  4.300e-01],\n",
       "       [ 7.100e-01, -5.090e+00, -2.380e+00,  4.700e-01],\n",
       "       [ 5.060e+00, -2.400e-01, -3.490e+00,  4.200e-01],\n",
       "       [ 2.830e+00, -2.490e+00,  4.190e+00,  4.300e-01],\n",
       "       [ 5.060e+00, -2.400e-01, -3.490e+00,  4.200e-01],\n",
       "       [ 2.830e+00, -2.490e+00,  4.190e+00,  4.300e-01]])"
      ]
     },
     "execution_count": 163,
     "metadata": {},
     "output_type": "execute_result"
    }
   ],
   "source": [
    "rf_vals"
   ]
  },
  {
   "cell_type": "code",
   "execution_count": 160,
   "metadata": {},
   "outputs": [
    {
     "ename": "ValueError",
     "evalue": "operands could not be broadcast together with shapes (60,) (60,4) ",
     "output_type": "error",
     "traceback": [
      "\u001b[0;31m---------------------------------------------------------------------------\u001b[0m",
      "\u001b[0;31mValueError\u001b[0m                                Traceback (most recent call last)",
      "Cell \u001b[0;32mIn[160], line 3\u001b[0m\n\u001b[1;32m      1\u001b[0m \u001b[38;5;66;03m# Substract Rf rate to get excess return\u001b[39;00m\n\u001b[1;32m      2\u001b[0m \u001b[38;5;66;03m# mthly_returns['MSFT-rf'] = \u001b[39;00m\n\u001b[0;32m----> 3\u001b[0m \u001b[43mmthly_returns\u001b[49m\u001b[43m[\u001b[49m\u001b[38;5;124;43m'\u001b[39;49m\u001b[38;5;124;43mMSFT\u001b[39;49m\u001b[38;5;124;43m'\u001b[39;49m\u001b[43m]\u001b[49m\u001b[38;5;241;43m.\u001b[39;49m\u001b[43mvalues\u001b[49m\u001b[43m \u001b[49m\u001b[38;5;241;43m-\u001b[39;49m\u001b[43m \u001b[49m\u001b[43mrf_vals\u001b[49m\n",
      "\u001b[0;31mValueError\u001b[0m: operands could not be broadcast together with shapes (60,) (60,4) "
     ]
    }
   ],
   "source": [
    "# Substract Rf rate to get excess return\n",
    "# mthly_returns['MSFT-rf'] = \n",
    "mthly_returns['MSFT'].values - rf_vals\n"
   ]
  },
  {
   "cell_type": "code",
   "execution_count": 38,
   "metadata": {},
   "outputs": [
    {
     "data": {
      "text/plain": [
       "array([0.21, 0.18, 0.19, 0.16, 0.18, 0.16, 0.12, 0.14, 0.13, 0.12, 0.13,\n",
       "       0.  , 0.01, 0.01, 0.01, 0.01, 0.01, 0.01, 0.01, 0.01, 0.01, 0.  ,\n",
       "       0.  , 0.  , 0.  , 0.  , 0.  , 0.  , 0.  , 0.  , 0.  , 0.01, 0.  ,\n",
       "       0.  , 0.01, 0.01, 0.03, 0.06, 0.08, 0.19, 0.19, 0.23, 0.29, 0.33,\n",
       "       0.35, 0.34, 0.36, 0.35, 0.36, 0.4 , 0.45, 0.45, 0.43, 0.47, 0.44,\n",
       "       0.43, 0.47, 0.42, 0.43])"
      ]
     },
     "execution_count": 38,
     "metadata": {},
     "output_type": "execute_result"
    }
   ],
   "source": [
    "rf[0].RF.values"
   ]
  },
  {
   "cell_type": "code",
   "execution_count": 39,
   "metadata": {},
   "outputs": [
    {
     "data": {
      "text/plain": [
       "Date\n",
       "2019-06-30    0.083118\n",
       "2019-07-31    0.017244\n",
       "2019-08-31    0.015037\n",
       "2019-09-30    0.008487\n",
       "2019-10-31    0.031216\n",
       "2019-11-30    0.059462\n",
       "2019-12-31    0.041750\n",
       "2020-01-31    0.079455\n",
       "2020-02-29   -0.045688\n",
       "2020-03-31   -0.026542\n",
       "2020-04-30    0.136326\n",
       "2020-05-31    0.025391\n",
       "2020-06-30    0.110559\n",
       "2020-07-31    0.007370\n",
       "2020-08-31    0.102752\n",
       "2020-09-30   -0.067397\n",
       "2020-10-31   -0.037370\n",
       "2020-11-30    0.060061\n",
       "2020-12-31    0.039006\n",
       "2021-01-31    0.042892\n",
       "2021-02-28    0.004118\n",
       "2021-03-31    0.014588\n",
       "2021-04-30    0.069602\n",
       "2021-05-31   -0.007627\n",
       "2021-06-30    0.084989\n",
       "2021-07-31    0.051717\n",
       "2021-08-31    0.061591\n",
       "2021-09-30   -0.066119\n",
       "2021-10-31    0.176291\n",
       "2021-11-30   -0.001282\n",
       "2021-12-31    0.017333\n",
       "2022-01-31   -0.075345\n",
       "2022-02-28   -0.037212\n",
       "2022-03-31    0.031862\n",
       "2022-04-30   -0.099867\n",
       "2022-05-31   -0.018077\n",
       "2022-06-30   -0.055321\n",
       "2022-07-31    0.093097\n",
       "2022-08-31   -0.066663\n",
       "2022-09-30   -0.109267\n",
       "2022-10-31   -0.003306\n",
       "2022-11-30    0.102223\n",
       "2022-12-31   -0.060045\n",
       "2023-01-31    0.033317\n",
       "2023-02-28    0.009018\n",
       "2023-03-31    0.155882\n",
       "2023-04-30    0.065765\n",
       "2023-05-31    0.071106\n",
       "2023-06-30    0.036999\n",
       "2023-07-31   -0.013567\n",
       "2023-08-31   -0.022226\n",
       "2023-09-30   -0.036643\n",
       "2023-10-31    0.070815\n",
       "2023-11-30    0.122945\n",
       "2023-12-31   -0.007574\n",
       "2024-01-31    0.057281\n",
       "2024-02-29    0.042318\n",
       "2024-03-31    0.017116\n",
       "2024-04-30   -0.074610\n",
       "2024-05-31    0.106865\n",
       "Freq: M, Name: MSFT, dtype: float64"
      ]
     },
     "execution_count": 39,
     "metadata": {},
     "output_type": "execute_result"
    }
   ],
   "source": [
    "mthly_returns['MSFT']"
   ]
  },
  {
   "cell_type": "code",
   "execution_count": 40,
   "metadata": {},
   "outputs": [
    {
     "data": {
      "text/plain": [
       "60"
      ]
     },
     "execution_count": 40,
     "metadata": {},
     "output_type": "execute_result"
    }
   ],
   "source": [
    "len(mthly_returns['MSFT'])"
   ]
  },
  {
   "cell_type": "code",
   "execution_count": 43,
   "metadata": {},
   "outputs": [
    {
     "data": {
      "text/plain": [
       "Timestamp('2024-05-31 00:00:00')"
      ]
     },
     "execution_count": 43,
     "metadata": {},
     "output_type": "execute_result"
    }
   ],
   "source": []
  },
  {
   "cell_type": "code",
   "execution_count": null,
   "metadata": {},
   "outputs": [],
   "source": []
  }
 ],
 "metadata": {
  "kernelspec": {
   "display_name": "pyfin",
   "language": "python",
   "name": "python3"
  },
  "language_info": {
   "codemirror_mode": {
    "name": "ipython",
    "version": 3
   },
   "file_extension": ".py",
   "mimetype": "text/x-python",
   "name": "python",
   "nbconvert_exporter": "python",
   "pygments_lexer": "ipython3",
   "version": "3.8.19"
  }
 },
 "nbformat": 4,
 "nbformat_minor": 2
}
